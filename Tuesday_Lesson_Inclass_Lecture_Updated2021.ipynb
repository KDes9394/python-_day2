{
 "cells": [
  {
   "cell_type": "markdown",
   "metadata": {},
   "source": [
    "# Functions, Scoping, Data Collections 1 & List Comprehensions"
   ]
  },
  {
   "cell_type": "markdown",
   "metadata": {},
   "source": [
    "## Tasks Today:\n",
    "\n",
    "<i>Monday Additions (or, and ... if statements)</i>\n",
    "\n",
    "1) String Manipulation <br>\n",
    " &nbsp;&nbsp;&nbsp;&nbsp; a) strip() <br>\n",
    " &nbsp;&nbsp;&nbsp;&nbsp; b) title() <br>\n",
    "2) Working With Lists <br>\n",
    " &nbsp;&nbsp;&nbsp;&nbsp; a) min() <br>\n",
    " &nbsp;&nbsp;&nbsp;&nbsp; b) max() <br>\n",
    " &nbsp;&nbsp;&nbsp;&nbsp; c) sum() <br>\n",
    " &nbsp;&nbsp;&nbsp;&nbsp; d) sort() <br>\n",
    " &nbsp;&nbsp;&nbsp;&nbsp; e) Copying a List <br>\n",
    " &nbsp;&nbsp;&nbsp;&nbsp; f) 'in' keyword <br>\n",
    " &nbsp;&nbsp;&nbsp;&nbsp; g) 'not in' keyword <br>\n",
    " &nbsp;&nbsp;&nbsp;&nbsp; i) Checking an Empty List <br>\n",
    " &nbsp;&nbsp;&nbsp;&nbsp; j) Removing Instances with a Loop <br>\n",
    "3) List Comprehensions <br>\n",
    "4) Tuples <br>\n",
    " &nbsp;&nbsp;&nbsp;&nbsp; a) sorted() <br>\n",
    "5) Functions <br>\n",
    " &nbsp;&nbsp;&nbsp;&nbsp; a) User-Defined vs. Built-In Functions <br>\n",
    " &nbsp;&nbsp;&nbsp;&nbsp; b) Accepting Parameters <br>\n",
    " &nbsp;&nbsp;&nbsp;&nbsp; c) Default Parameters <br>\n",
    " &nbsp;&nbsp;&nbsp;&nbsp; d) Making an Argument Optional <br>\n",
    " &nbsp;&nbsp;&nbsp;&nbsp; e) Keyword Arguments <br>\n",
    " &nbsp;&nbsp;&nbsp;&nbsp; f) Returning Values <br>\n",
    " &nbsp;&nbsp;&nbsp;&nbsp; g) *args <br>\n",
    " &nbsp;&nbsp;&nbsp;&nbsp; h) Docstring <br>\n",
    " &nbsp;&nbsp;&nbsp;&nbsp; i) Using a User Function in a Loop <br>\n",
    "6) Scope"
   ]
  },
  {
   "cell_type": "markdown",
   "metadata": {},
   "source": [
    "### String Manipulation"
   ]
  },
  {
   "cell_type": "code",
   "execution_count": 3,
   "metadata": {},
   "outputs": [
    {
     "ename": "NameError",
     "evalue": "name 'string' is not defined",
     "output_type": "error",
     "traceback": [
      "\u001b[0;31m---------------------------------------------------------------------------\u001b[0m",
      "\u001b[0;31mNameError\u001b[0m                                 Traceback (most recent call last)",
      "\u001b[0;32m<ipython-input-3-90088c8096cd>\u001b[0m in \u001b[0;36m<module>\u001b[0;34m\u001b[0m\n\u001b[0;32m----> 1\u001b[0;31m \u001b[0mstring\u001b[0m\u001b[0;34m(\u001b[0m\u001b[0mhelp\u001b[0m\u001b[0;34m)\u001b[0m\u001b[0;34m\u001b[0m\u001b[0;34m\u001b[0m\u001b[0m\n\u001b[0m",
      "\u001b[0;31mNameError\u001b[0m: name 'string' is not defined"
     ]
    }
   ],
   "source": [
    "string(help)"
   ]
  },
  {
   "cell_type": "markdown",
   "metadata": {},
   "source": [
    "##### .lstrip()"
   ]
  },
  {
   "cell_type": "code",
   "execution_count": 8,
   "metadata": {},
   "outputs": [
    {
     "name": "stdout",
     "output_type": "stream",
     "text": [
      "           hJohn Smith\n",
      "John Smith\n"
     ]
    }
   ],
   "source": [
    "# string.lstrip()\n",
    "name = \"           hJohn Smith\"\n",
    "print(name)\n",
    "print(name.lstrip(\" \" \"h\"))\n"
   ]
  },
  {
   "cell_type": "markdown",
   "metadata": {},
   "source": [
    "##### .rstrip()"
   ]
  },
  {
   "cell_type": "code",
   "execution_count": 13,
   "metadata": {},
   "outputs": [
    {
     "name": "stdout",
     "output_type": "stream",
     "text": [
      "Kento Sahara                abc   \n",
      "Kento Sahar\n"
     ]
    }
   ],
   "source": [
    "name = 'Kento Sahara                abc   '\n",
    "print(name)\n",
    "print(name.rstrip('abc  '))"
   ]
  },
  {
   "cell_type": "code",
   "execution_count": null,
   "metadata": {},
   "outputs": [],
   "source": []
  },
  {
   "cell_type": "code",
   "execution_count": 6,
   "metadata": {},
   "outputs": [
    {
     "name": "stdout",
     "output_type": "stream",
     "text": [
      "Bill Ross\n"
     ]
    }
   ],
   "source": [
    "# string.rstrip()\n",
    "name = \"Bill Ross     th\"\n",
    "print(name.rstrip(\" \" \"th\"))"
   ]
  },
  {
   "cell_type": "markdown",
   "metadata": {},
   "source": [
    "##### .strip()"
   ]
  },
  {
   "cell_type": "code",
   "execution_count": 14,
   "metadata": {},
   "outputs": [
    {
     "name": "stdout",
     "output_type": "stream",
     "text": [
      "     John Smith     t\n"
     ]
    }
   ],
   "source": [
    "# string.strip()\n",
    "name = \"     John Smith     th\"\n",
    "print(name.strip(\"ah\"))"
   ]
  },
  {
   "cell_type": "markdown",
   "metadata": {},
   "source": [
    "##### .title()"
   ]
  },
  {
   "cell_type": "code",
   "execution_count": 15,
   "metadata": {},
   "outputs": [
    {
     "name": "stdout",
     "output_type": "stream",
     "text": [
      "Barak Obama\n"
     ]
    }
   ],
   "source": [
    "# string.title()\n",
    "president = \"barak obAma\"\n",
    "\n",
    "print(president.title())"
   ]
  },
  {
   "cell_type": "markdown",
   "metadata": {},
   "source": [
    "### String Exercise <br>\n",
    "<p>Strip all white space and capitalize every name in the list given</p>"
   ]
  },
  {
   "cell_type": "code",
   "execution_count": 29,
   "metadata": {},
   "outputs": [
    {
     "name": "stdout",
     "output_type": "stream",
     "text": [
      "Connor\n",
      "Max\n",
      "Evan\n",
      "Jordan\n",
      "['Connor', 'Max', 'Evan', 'Jordan']\n"
     ]
    }
   ],
   "source": [
    "# HINT: You will need to use a for loop for iteration\n",
    "names = ['    coNNor', 'max', ' EVan ', 'JORDAN']\n",
    "clean_names = []\n",
    "for name in names:\n",
    "    print(name.strip().title())\n",
    "    clean_names.append(name.strip().title())\n",
    "print(clean_names)\n"
   ]
  },
  {
   "cell_type": "markdown",
   "metadata": {},
   "source": [
    "### Working With Lists"
   ]
  },
  {
   "cell_type": "markdown",
   "metadata": {},
   "source": [
    "##### min()"
   ]
  },
  {
   "cell_type": "code",
   "execution_count": 21,
   "metadata": {},
   "outputs": [
    {
     "name": "stdout",
     "output_type": "stream",
     "text": [
      "2\n"
     ]
    }
   ],
   "source": [
    "# min(list)\n",
    "numbers = [4,2,97,54,16]\n",
    "\n",
    "print(min(numbers))"
   ]
  },
  {
   "cell_type": "markdown",
   "metadata": {},
   "source": [
    "##### max()"
   ]
  },
  {
   "cell_type": "code",
   "execution_count": 22,
   "metadata": {},
   "outputs": [
    {
     "name": "stdout",
     "output_type": "stream",
     "text": [
      "97\n"
     ]
    }
   ],
   "source": [
    "# max(list)\n",
    "\n",
    "print(max(numbers))"
   ]
  },
  {
   "cell_type": "markdown",
   "metadata": {},
   "source": [
    "##### sum()"
   ]
  },
  {
   "cell_type": "code",
   "execution_count": 23,
   "metadata": {},
   "outputs": [
    {
     "name": "stdout",
     "output_type": "stream",
     "text": [
      "173\n"
     ]
    }
   ],
   "source": [
    "# sum(list)\n",
    "\n",
    "print(sum(numbers))"
   ]
  },
  {
   "cell_type": "markdown",
   "metadata": {},
   "source": [
    "##### sorted()"
   ]
  },
  {
   "cell_type": "code",
   "execution_count": 28,
   "metadata": {},
   "outputs": [
    {
     "name": "stdout",
     "output_type": "stream",
     "text": [
      "[2, 4, 16, 54, 97]\n",
      "[2, 4, 16, 54, 97]\n",
      "regular numbers: [2, 4, 16, 54, 97]\n",
      "sorted numbers: [2, 4, 16, 54, 97]\n"
     ]
    }
   ],
   "source": [
    "# sorted(list)\n",
    "print(numbers)\n",
    "\n",
    "sorted_numbers = sorted(numbers)\n",
    "print(sorted(numbers))\n",
    "print(f'regular numbers: {numbers}')\n",
    "\n",
    "print(f'sorted numbers: {sorted_numbers}')\n"
   ]
  },
  {
   "cell_type": "markdown",
   "metadata": {},
   "source": [
    "##### .sort() <br>\n",
    "<p>Difference between sort and sorted, is that sorted doesn't change original list it returns a copy, while .sort changes the original list</p>"
   ]
  },
  {
   "cell_type": "code",
   "execution_count": 30,
   "metadata": {},
   "outputs": [
    {
     "name": "stdout",
     "output_type": "stream",
     "text": [
      "before sort: [2, 4, 16, 54, 97]\n",
      "None\n",
      "[2, 4, 16, 54, 97]\n"
     ]
    }
   ],
   "source": [
    "# list.sort()\n",
    "print(f'before sort: {numbers}')\n",
    "print(numbers.sort())\n",
    "print(numbers)\n",
    "\n",
    "# use sorted when you don't want to alter original list, use .sort() when you want to alter original list"
   ]
  },
  {
   "cell_type": "markdown",
   "metadata": {},
   "source": [
    "##### Copying a List"
   ]
  },
  {
   "cell_type": "code",
   "execution_count": 31,
   "metadata": {},
   "outputs": [
    {
     "name": "stdout",
     "output_type": "stream",
     "text": [
      "[2, 4, 16, 54, 97]\n",
      "[2, 4, 16, 54, 97]\n"
     ]
    }
   ],
   "source": [
    "# [:] copies a list, doesn't alter original'\n",
    "list_1 = numbers[:]\n",
    "print(list_1)\n",
    "print(numbers)\n"
   ]
  },
  {
   "cell_type": "code",
   "execution_count": 43,
   "metadata": {},
   "outputs": [
    {
     "ename": "NameError",
     "evalue": "name 'numbers' is not defined",
     "output_type": "error",
     "traceback": [
      "\u001b[0;31m---------------------------------------------------------------------------\u001b[0m",
      "\u001b[0;31mNameError\u001b[0m                                 Traceback (most recent call last)",
      "\u001b[0;32m<ipython-input-43-601093913324>\u001b[0m in \u001b[0;36m<module>\u001b[0;34m\u001b[0m\n\u001b[1;32m      1\u001b[0m \u001b[0;31m#list.copy()\u001b[0m\u001b[0;34m\u001b[0m\u001b[0;34m\u001b[0m\u001b[0;34m\u001b[0m\u001b[0m\n\u001b[0;32m----> 2\u001b[0;31m \u001b[0mlist2\u001b[0m \u001b[0;34m=\u001b[0m \u001b[0mnumbers\u001b[0m\u001b[0;34m.\u001b[0m\u001b[0mcopy\u001b[0m\u001b[0;34m(\u001b[0m\u001b[0;34m)\u001b[0m\u001b[0;34m\u001b[0m\u001b[0;34m\u001b[0m\u001b[0m\n\u001b[0m\u001b[1;32m      3\u001b[0m \u001b[0mlist2\u001b[0m \u001b[0;32mis\u001b[0m \u001b[0mnumbers\u001b[0m\u001b[0;34m\u001b[0m\u001b[0;34m\u001b[0m\u001b[0m\n\u001b[1;32m      4\u001b[0m \u001b[0mprint\u001b[0m\u001b[0;34m(\u001b[0m\u001b[0mlist2\u001b[0m\u001b[0;34m)\u001b[0m\u001b[0;34m\u001b[0m\u001b[0;34m\u001b[0m\u001b[0m\n",
      "\u001b[0;31mNameError\u001b[0m: name 'numbers' is not defined"
     ]
    }
   ],
   "source": [
    "#list.copy()\n",
    "list2 = numbers.copy()\n",
    "list2 is numbers\n",
    "print(list2)"
   ]
  },
  {
   "cell_type": "markdown",
   "metadata": {},
   "source": [
    "##### 'in' keyword"
   ]
  },
  {
   "cell_type": "code",
   "execution_count": 44,
   "metadata": {},
   "outputs": [
    {
     "name": "stdout",
     "output_type": "stream",
     "text": [
      "Coding Temple Instructor\n"
     ]
    }
   ],
   "source": [
    "teachers = [\"Joel\",\"Derek\",\"Conner\",\"Brian\",\"Joe\"]\n",
    "\n",
    "if 'Derek' in teachers:\n",
    "    print('Coding Temple Instructor')\n",
    "else:\n",
    "    print('Not an Instructor')"
   ]
  },
  {
   "cell_type": "code",
   "execution_count": 35,
   "metadata": {},
   "outputs": [
    {
     "name": "stdout",
     "output_type": "stream",
     "text": [
      "Not Found\n",
      "Not Found\n",
      "Found\n",
      "Not Found\n",
      "Not Found\n"
     ]
    }
   ],
   "source": [
    "# Looking inside of the list for specific characters\n",
    "# for name in l_teachers:\n",
    "#     if name[0] == 'C':\n",
    "#         print('Teacher that starts with C')\n",
    "#     else:\n",
    "#         print(\"We ain't got it boss...\")\n",
    "        \n",
    "for name in l_teachers:\n",
    "    if 'C' in name[0]:\n",
    "        print('Found')\n",
    "    else:\n",
    "        print('Not Found')"
   ]
  },
  {
   "cell_type": "markdown",
   "metadata": {},
   "source": [
    "##### 'not in' keyword"
   ]
  },
  {
   "cell_type": "code",
   "execution_count": 33,
   "metadata": {},
   "outputs": [
    {
     "name": "stdout",
     "output_type": "stream",
     "text": [
      "Not a CT Instructor\n"
     ]
    }
   ],
   "source": [
    "if 'Zack' not in l_teachers:\n",
    "    print('Not a CT Instructor')"
   ]
  },
  {
   "cell_type": "markdown",
   "metadata": {},
   "source": [
    "##### Checking an Empty List"
   ]
  },
  {
   "cell_type": "code",
   "execution_count": 50,
   "metadata": {},
   "outputs": [
    {
     "name": "stdout",
     "output_type": "stream",
     "text": [
      "Goodbye\n"
     ]
    }
   ],
   "source": [
    "\n",
    "my_list =[]\n",
    "\n",
    "if my_list:\n",
    "    print(\"Hello World\")\n",
    "   \n",
    "if my_list ==[]:\n",
    "    print(\"Goodbye\")    "
   ]
  },
  {
   "cell_type": "code",
   "execution_count": 36,
   "metadata": {},
   "outputs": [
    {
     "name": "stdout",
     "output_type": "stream",
     "text": [
      "Empty\n"
     ]
    }
   ],
   "source": [
    "# if l_1: or if l_1 = []\n",
    "l_2 = []\n",
    "\n",
    "if l_2 == []:\n",
    "    print('Empty')\n"
   ]
  },
  {
   "cell_type": "code",
   "execution_count": 56,
   "metadata": {},
   "outputs": [
    {
     "name": "stdout",
     "output_type": "stream",
     "text": [
      "Thank you for purchasing strawberries\n",
      "Thank you for purchasing bananas\n",
      "Thank you for purchasing apples\n",
      "[]\n"
     ]
    }
   ],
   "source": [
    "shopping_cart = ['apples', 'bananas', 'strawberries']\n",
    "while shopping_cart:\n",
    "    item_to_process = shopping_cart.pop()\n",
    "    print(f'Thank you for purchasing ' + item_to_process)\n",
    "          \n",
    "print(shopping_cart)"
   ]
  },
  {
   "cell_type": "markdown",
   "metadata": {},
   "source": []
  },
  {
   "cell_type": "code",
   "execution_count": null,
   "metadata": {},
   "outputs": [],
   "source": []
  },
  {
   "cell_type": "markdown",
   "metadata": {},
   "source": [
    "##### Removing Instances with a Loop"
   ]
  },
  {
   "cell_type": "code",
   "execution_count": 43,
   "metadata": {},
   "outputs": [
    {
     "name": "stdout",
     "output_type": "stream",
     "text": [
      "['Conner', 'Joel', 'Max', 'Rob']\n"
     ]
    }
   ],
   "source": [
    "# while, remove\n",
    "names = ['Conner',\"Joel\", \"Max\",\"Evan\",\"Rob\",\"Evan\"]\n",
    "\n",
    "while 'Evan' in names:\n",
    "    names.remove('Evan')\n",
    "print(names)\n",
    "\n",
    "for name in names:\n",
    "    if name == 'Evan':\n",
    "        names.remove('Evan')\n",
    "print(names)\n"
   ]
  },
  {
   "cell_type": "markdown",
   "metadata": {},
   "source": [
    "### List Exercise <br>\n",
    "<p>Remove all duplicates<br><b>Extra: Create a program that will remove any duplicates from a given list</b></p>"
   ]
  },
  {
   "cell_type": "code",
   "execution_count": 64,
   "metadata": {},
   "outputs": [],
   "source": [
    "# Hint 1: You will need an append\n",
    "# Hint 2: Using an empty list will make life easier\n",
    "  \n",
    "\n",
    "names = ['connor', 'connor', 'bob', 'connor', 'evan', 'max', 'evan', 2, 2, 2, 3, 3, 4, 'bob', 'kevin']\n",
    "output = []\n",
    "\n",
    "for name in names:\n",
    "    if name not in output:\n",
    "        output.append(name)\n",
    "\n",
    "if names ==[]:\n",
    "    print(output)\n",
    "\n",
    "\n",
    "\n"
   ]
  },
  {
   "cell_type": "markdown",
   "metadata": {},
   "source": [
    "### List Comprehensions <br>\n",
    "<p>Creating a quickly generated list to work with<br>*result*  = [*transform*    *iteration*         *filter*     ]</p>"
   ]
  },
  {
   "cell_type": "code",
   "execution_count": 65,
   "metadata": {
    "scrolled": true
   },
   "outputs": [
    {
     "name": "stdout",
     "output_type": "stream",
     "text": [
      "[0, 1, 2, 3, 4, 5, 6, 7, 8, 9, 10, 11, 12, 13, 14, 15, 16, 17, 18, 19, 20, 21, 22, 23, 24, 25, 26, 27, 28, 29, 30, 31, 32, 33, 34, 35, 36, 37, 38, 39, 40, 41, 42, 43, 44, 45, 46, 47, 48, 49, 50, 51, 52, 53, 54, 55, 56, 57, 58, 59, 60, 61, 62, 63, 64, 65, 66, 67, 68, 69, 70, 71, 72, 73, 74, 75, 76, 77, 78, 79, 80, 81, 82, 83, 84, 85, 86, 87, 88, 89, 90, 91, 92, 93, 94, 95, 96, 97, 98, 99]\n",
      "\n",
      "\n",
      "[0, 2, 4, 6, 8, 10, 12, 14, 16, 18, 20, 22, 24, 26, 28, 30, 32, 34, 36, 38, 40, 42, 44, 46, 48, 50, 52, 54, 56, 58, 60, 62, 64, 66, 68, 70, 72, 74, 76, 78, 80, 82, 84, 86, 88, 90, 92, 94, 96, 98, 100, 102, 104, 106, 108, 110, 112, 114, 116, 118, 120, 122, 124, 126, 128, 130, 132, 134, 136, 138, 140, 142, 144, 146, 148, 150, 152, 154, 156, 158, 160, 162, 164, 166, 168, 170, 172, 174, 176, 178, 180, 182, 184, 186, 188, 190, 192, 194, 196, 198]\n"
     ]
    }
   ],
   "source": [
    "# number comprehension\n",
    "\n",
    "# With a regular for loop\n",
    "\n",
    "nums = []\n",
    "\n",
    "for i in range(100):\n",
    "    nums.append(i)\n",
    "print(nums)\n",
    "\n",
    "\n",
    "# IN a list comprehension we have a few pieces:\n",
    "# The first is the counter/ variable - IN this the variable is x\n",
    "# Then we have a transform for the variable \n",
    "# The finale part of a list comp is called the condition\n",
    "\n",
    "#[variable, transform, condition]\n",
    "\n",
    "print('\\n')\n",
    "\n",
    "# List Comprehension syntax\n",
    "nums_comp = [i*2 for i in range(100)]\n",
    "print(nums_comp)"
   ]
  },
  {
   "cell_type": "code",
   "execution_count": 66,
   "metadata": {},
   "outputs": [
    {
     "name": "stdout",
     "output_type": "stream",
     "text": [
      "[0, 1, 4, 9, 16, 25, 36, 49, 64, 81]\n"
     ]
    }
   ],
   "source": [
    "squares = []\n",
    "for num in range(10):\n",
    "    squares.append(num**2)\n",
    "print(squares)\n",
    "\n",
    "\n",
    "squares = [square**2 for square in range(10) ]"
   ]
  },
  {
   "cell_type": "markdown",
   "metadata": {},
   "source": [
    "There are a few benefits to using List comprehensions. The most obvious would be that we now have shorter code to work with instead of using 3+ lines of code in the for loop variant.\n",
    "\n",
    "Another is an added benefit to memory usage. Since the list's memory is allocated first before adding elements to it, we don't have to resize the list once we add elements to it.\n",
    "\n",
    "Lastly, list comprehensions are considered the \"pythonic\" way to write code by the PEP8 standards (Python Style Guide)"
   ]
  },
  {
   "cell_type": "code",
   "execution_count": 50,
   "metadata": {},
   "outputs": [
    {
     "name": "stdout",
     "output_type": "stream",
     "text": [
      "[0, 1, 4, 9, 16, 25, 36, 49, 64, 81]\n",
      "\n",
      "\n",
      "[0, 1, 4, 9, 16, 25, 36, 49, 64, 81]\n"
     ]
    }
   ],
   "source": [
    "# square number comprehension\n",
    "squares = [x**2 for x in range(10)]\n",
    "\n",
    "print(squares)\n",
    "\n",
    "squares_reg = []\n",
    "\n",
    "for x in range(10):\n",
    "    squares_reg.append(x**2)\n",
    "\n",
    "print('\\n')\n",
    "print(squares_reg)\n"
   ]
  },
  {
   "cell_type": "code",
   "execution_count": 67,
   "metadata": {},
   "outputs": [
    {
     "name": "stdout",
     "output_type": "stream",
     "text": [
      "['I', 'I', 'M', 'I', 'W']\n"
     ]
    }
   ],
   "source": [
    "#string comprehension\n",
    "states = ['Illinois', 'Iowa', 'Michigan', 'Indiana', 'Wisconsin']\n",
    "#output I I M I W\n",
    "first_letter = [state[0] for state in states]\n",
    "print(first_letter)"
   ]
  },
  {
   "cell_type": "code",
   "execution_count": 68,
   "metadata": {},
   "outputs": [
    {
     "name": "stdout",
     "output_type": "stream",
     "text": [
      "['Illinois', 'Iowa', 'Indiana']\n"
     ]
    }
   ],
   "source": [
    "letter_is = []\n",
    "for state in states:\n",
    "    if state[0] == 'I':\n",
    "        letter_is.append(state)\n",
    "        \n",
    "print(letter_is)"
   ]
  },
  {
   "cell_type": "code",
   "execution_count": 72,
   "metadata": {},
   "outputs": [
    {
     "name": "stdout",
     "output_type": "stream",
     "text": [
      "['Illinois', 'Iowa', 'Indiana']\n"
     ]
    }
   ],
   "source": [
    "#List Comprehension\n",
    "i_states = [state for state in states if state[0]=='I']\n",
    "print(i_states)"
   ]
  },
  {
   "cell_type": "code",
   "execution_count": 73,
   "metadata": {},
   "outputs": [
    {
     "name": "stdout",
     "output_type": "stream",
     "text": [
      "['Adult', 'Adult', 'Child', 'Adult', 'Senior', 'Adult']\n"
     ]
    }
   ],
   "source": [
    "ages = [18, 22, 7, 45, 74, 21]\n",
    "\n",
    "age_groups = []\n",
    "for age in ages:\n",
    "    if age<18:\n",
    "        age_groups.append('Child')\n",
    "    elif age<65:\n",
    "        age_groups.append('Adult')\n",
    "    else:\n",
    "        age_groups.append('Senior')\n",
    "print(age_groups)"
   ]
  },
  {
   "cell_type": "code",
   "execution_count": null,
   "metadata": {},
   "outputs": [],
   "source": [
    "group_ages = [‘Child’ if age<18 else ‘Adult’ if age < 65 else ‘Senior’ for age in ages]\n",
    "print(group_ages)"
   ]
  },
  {
   "cell_type": "code",
   "execution_count": 52,
   "metadata": {},
   "outputs": [
    {
     "name": "stdout",
     "output_type": "stream",
     "text": [
      "['C', 'M', 'E', 'R']\n",
      "\n",
      "\n",
      "['C', 'M', 'E', 'R']\n"
     ]
    }
   ],
   "source": [
    "# string comprehension\n",
    "names = ['Conner', 'Max','Evan','Rob']\n",
    "\n",
    "first_char_comp = [name[0] for name in names]\n",
    "\n",
    "print(first_char_comp)\n",
    "\n",
    "# For Loop Version\n",
    "first_char = []\n",
    "\n",
    "for name in names:\n",
    "    first_char.append(name[0])\n",
    "print('\\n')\n",
    "print(first_char)\n"
   ]
  },
  {
   "cell_type": "code",
   "execution_count": 54,
   "metadata": {},
   "outputs": [
    {
     "name": "stdout",
     "output_type": "stream",
     "text": [
      "['Conner']\n",
      "\n",
      "\n",
      "['Conner']\n"
     ]
    }
   ],
   "source": [
    "# Using the 'if' statement ... if always comes after the for\n",
    "c_names = [first_name for first_name in names if first_name[0] == 'C']\n",
    "\n",
    "print(c_names)\n",
    "\n",
    "# for loop version\n",
    "c_names_reg = []\n",
    "\n",
    "for first_name in names:\n",
    "    if first_name[0] == 'C':\n",
    "        c_names_reg.append(first_name)\n",
    "\n",
    "print('\\n')\n",
    "print(c_names_reg)\n"
   ]
  },
  {
   "cell_type": "markdown",
   "metadata": {},
   "source": [
    "### Tuples <br>\n",
    "<p><b>Defined as an immutable list</b></p><br>Seperated by commas using parenthesis"
   ]
  },
  {
   "cell_type": "code",
   "execution_count": 75,
   "metadata": {},
   "outputs": [
    {
     "name": "stdout",
     "output_type": "stream",
     "text": [
      "(1, 2, 3)\n",
      "(1, 2, 3)\n"
     ]
    }
   ],
   "source": [
    "#syntax tuple =(,)\n",
    "tuple_a = (1,2,3)\n",
    "type(tuple_a)\n",
    "print(tuple_a)\n",
    "\n",
    "tuple_b= 1,2,3\n",
    "type(tuple_b)\n",
    "print(tuple_b)"
   ]
  },
  {
   "cell_type": "code",
   "execution_count": 78,
   "metadata": {},
   "outputs": [
    {
     "name": "stdout",
     "output_type": "stream",
     "text": [
      "1\n",
      "(1, 2)\n",
      "1\n",
      "2\n",
      "3\n"
     ]
    }
   ],
   "source": [
    "#Similar to lists\n",
    "\n",
    "#Tuple is indexable\n",
    "print(tuple_a[0])\n",
    "\n",
    "#Tuple can be siced \n",
    "print(tuple_a[:2])\n",
    "\n",
    "#loop over a tuple (it's iteratble)\n",
    "for k in tuple_a:\n",
    "    print(k)\n",
    "    \n",
    "#loop over a tuple with index (range(len))\n",
    "for i in range(len(tuple_a))"
   ]
  },
  {
   "cell_type": "code",
   "execution_count": 79,
   "metadata": {},
   "outputs": [
    {
     "name": "stdout",
     "output_type": "stream",
     "text": [
      "(1, 2, 3)\n",
      "Help on class tuple in module builtins:\n",
      "\n",
      "class tuple(object)\n",
      " |  tuple(iterable=(), /)\n",
      " |  \n",
      " |  Built-in immutable sequence.\n",
      " |  \n",
      " |  If no argument is given, the constructor returns an empty tuple.\n",
      " |  If iterable is specified the tuple is initialized from iterable's items.\n",
      " |  \n",
      " |  If the argument is a tuple, the return value is the same object.\n",
      " |  \n",
      " |  Built-in subclasses:\n",
      " |      asyncgen_hooks\n",
      " |      UnraisableHookArgs\n",
      " |  \n",
      " |  Methods defined here:\n",
      " |  \n",
      " |  __add__(self, value, /)\n",
      " |      Return self+value.\n",
      " |  \n",
      " |  __contains__(self, key, /)\n",
      " |      Return key in self.\n",
      " |  \n",
      " |  __eq__(self, value, /)\n",
      " |      Return self==value.\n",
      " |  \n",
      " |  __ge__(self, value, /)\n",
      " |      Return self>=value.\n",
      " |  \n",
      " |  __getattribute__(self, name, /)\n",
      " |      Return getattr(self, name).\n",
      " |  \n",
      " |  __getitem__(self, key, /)\n",
      " |      Return self[key].\n",
      " |  \n",
      " |  __getnewargs__(self, /)\n",
      " |  \n",
      " |  __gt__(self, value, /)\n",
      " |      Return self>value.\n",
      " |  \n",
      " |  __hash__(self, /)\n",
      " |      Return hash(self).\n",
      " |  \n",
      " |  __iter__(self, /)\n",
      " |      Implement iter(self).\n",
      " |  \n",
      " |  __le__(self, value, /)\n",
      " |      Return self<=value.\n",
      " |  \n",
      " |  __len__(self, /)\n",
      " |      Return len(self).\n",
      " |  \n",
      " |  __lt__(self, value, /)\n",
      " |      Return self<value.\n",
      " |  \n",
      " |  __mul__(self, value, /)\n",
      " |      Return self*value.\n",
      " |  \n",
      " |  __ne__(self, value, /)\n",
      " |      Return self!=value.\n",
      " |  \n",
      " |  __repr__(self, /)\n",
      " |      Return repr(self).\n",
      " |  \n",
      " |  __rmul__(self, value, /)\n",
      " |      Return value*self.\n",
      " |  \n",
      " |  count(self, value, /)\n",
      " |      Return number of occurrences of value.\n",
      " |  \n",
      " |  index(self, value, start=0, stop=9223372036854775807, /)\n",
      " |      Return first index of value.\n",
      " |      \n",
      " |      Raises ValueError if the value is not present.\n",
      " |  \n",
      " |  ----------------------------------------------------------------------\n",
      " |  Static methods defined here:\n",
      " |  \n",
      " |  __new__(*args, **kwargs) from builtins.type\n",
      " |      Create and return a new object.  See help(type) for accurate signature.\n",
      "\n"
     ]
    }
   ],
   "source": [
    "#Difference\n",
    "print(tuple_a)\n",
    "tuple\n",
    "\n",
    "help(tuple)"
   ]
  },
  {
   "cell_type": "code",
   "execution_count": 59,
   "metadata": {},
   "outputs": [
    {
     "name": "stdout",
     "output_type": "stream",
     "text": [
      "<class 'tuple'>\n",
      "<class 'tuple'>\n",
      "1\n",
      "3\n",
      "1\n",
      "2\n",
      "3\n",
      "1\n",
      "2\n",
      "3\n"
     ]
    }
   ],
   "source": [
    "tup_1 = 1,2,3 # first way of creating a tuple\n",
    "tup_2 = (1,2,3) # Another/Second way of creating a tuple\n",
    "\n",
    "print(type(tup_1))\n",
    "print(type(tup_2))\n",
    "\n",
    "print(tup_1[0])\n",
    "\n",
    "print(len(tup_1))\n",
    "\n",
    "# Looping over a tuple\n",
    "for number in tup_1:\n",
    "    print(number)\n",
    "    \n",
    "# Looping over a tuple with an index using range and len\n",
    "for number in range(len(tup_1)):\n",
    "    print(tup_1[number])\n",
    "    \n"
   ]
  },
  {
   "cell_type": "markdown",
   "metadata": {},
   "source": [
    "##### sorted()"
   ]
  },
  {
   "cell_type": "code",
   "execution_count": 85,
   "metadata": {},
   "outputs": [
    {
     "name": "stdout",
     "output_type": "stream",
     "text": [
      "(20, 4, 66, 3, 2, 55, 22)\n",
      "[2, 3, 4, 20, 22, 55, 66]\n",
      "(20, 4, 66, 3, 2, 55, 22)\n",
      "\n",
      "\n",
      "(1, 3, 5, 9, 20, 45, 3, 4, 66, 77, 33)\n",
      "[1, 3, 5, 9, 20, 45, 3, 4, 66, 77, 33]\n",
      "<class 'list'>\n",
      "[1, 3, 5, 9, 20, 45]\n"
     ]
    }
   ],
   "source": [
    "new_tup = (20, 4, 66, 3, 2, 55, 22)\n",
    "print(new_tup)      \n",
    "sorted_tup = sorted(new_tup)\n",
    "print(sorted_tup)\n",
    "\n",
    "new_list = (20, 4, 66, 3, 2, 55, 22)\n",
    "print(new_list)\n",
    "\n",
    "tup_3 = (20,5,1,3,9,45)\n",
    "\n",
    "sorted_tup = sorted(tup_3)\n",
    "\n",
    "random_list = [3,4,66,77,33]\n",
    "combine_list = sorted_tup + random_list\n",
    "\n",
    "new_tup = tuple(combine_list)\n",
    "\n",
    "print('\\n')\n",
    "print(new_tup)\n",
    "print(combine_list)\n",
    "print(type(sorted_tup))\n",
    "print(sorted_tup)\n",
    "\n",
    "tup-list"
   ]
  },
  {
   "cell_type": "markdown",
   "metadata": {},
   "source": [
    "##### Adding values to a Tuple"
   ]
  },
  {
   "cell_type": "code",
   "execution_count": 63,
   "metadata": {},
   "outputs": [
    {
     "name": "stdout",
     "output_type": "stream",
     "text": [
      "(1, 2, 3)\n",
      "(1, 2, 3, 5)\n"
     ]
    }
   ],
   "source": [
    "print(tup_1)\n",
    "\n",
    "tup_1 = tup_1 + (5,)\n",
    "\n",
    "print(tup_1)\n"
   ]
  },
  {
   "cell_type": "markdown",
   "metadata": {},
   "source": [
    "## Functions"
   ]
  },
  {
   "cell_type": "markdown",
   "metadata": {},
   "source": [
    "##### User-Defined vs. Built-In Functions"
   ]
  },
  {
   "cell_type": "code",
   "execution_count": 64,
   "metadata": {},
   "outputs": [
    {
     "name": "stdout",
     "output_type": "stream",
     "text": [
      "<function sayHello at 0x000001B242FA7A68>\n",
      "Hello World\n"
     ]
    }
   ],
   "source": [
    "# User Defined Function\n",
    "def sayHello():\n",
    "    return 'Hello World'\n",
    "# Showing the function call in memory\n",
    "print(sayHello)\n",
    "\n",
    "# Calling The function\n",
    "print(sayHello())\n"
   ]
  },
  {
   "cell_type": "code",
   "execution_count": 125,
   "metadata": {},
   "outputs": [
    {
     "ename": "NameError",
     "evalue": "name 'function' is not defined",
     "output_type": "error",
     "traceback": [
      "\u001b[0;31m-----------------------------------------------------------------------\u001b[0m",
      "\u001b[0;31mNameError\u001b[0m                             Traceback (most recent call last)",
      "\u001b[0;32m<ipython-input-125-5186efc1ecee>\u001b[0m in \u001b[0;36m<module>\u001b[0;34m\u001b[0m\n\u001b[0;32m----> 1\u001b[0;31m \u001b[0mhelp\u001b[0m\u001b[0;34m(\u001b[0m\u001b[0mfunction\u001b[0m\u001b[0;34m)\u001b[0m\u001b[0;34m\u001b[0m\u001b[0;34m\u001b[0m\u001b[0m\n\u001b[0m",
      "\u001b[0;31mNameError\u001b[0m: name 'function' is not defined"
     ]
    }
   ],
   "source": [
    "help(function)"
   ]
  },
  {
   "cell_type": "markdown",
   "metadata": {},
   "source": [
    "##### Accepting Parameters"
   ]
  },
  {
   "cell_type": "code",
   "execution_count": 67,
   "metadata": {},
   "outputs": [
    {
     "name": "stdout",
     "output_type": "stream",
     "text": [
      "Hello Joel, Carter\n",
      "Hello Carter, Joel\n",
      "Hello Joel, Carter\n"
     ]
    }
   ],
   "source": [
    "# Order matters\n",
    "# A variable can be of any type of object\n",
    "# parameters - placehodlers for functions\n",
    "#arugements - actual data that replaces parameters\n",
    "\n",
    "def. great_person(first, last):\n",
    "    print(f'Hello person {first} {last}')\n",
    "    \n",
    "greet_person('Brian\",)\n",
    "\n",
    "def printFullName(first_name,last_name):\n",
    "    return f'Hello {first_name}, {last_name}'\n",
    "\n",
    "print(printFullName('Joel', 'Carter'))\n",
    "print(printFullName('Carter', 'Joel'))\n",
    "\n",
    "print(printFullName(last_name=\"Carter\",first_name = \"Joel\"))"
   ]
  },
  {
   "cell_type": "code",
   "execution_count": 97,
   "metadata": {},
   "outputs": [
    {
     "name": "stdout",
     "output_type": "stream",
     "text": [
      "kento.sahara@company.org\n"
     ]
    }
   ],
   "source": [
    "def create_account(first_name, last_name):\n",
    "    print(f'{first_name.lower()}.{last_name.lower()}@company.org')\n",
    "\n",
    "create_account('Kento', 'Sahara')"
   ]
  },
  {
   "cell_type": "code",
   "execution_count": 100,
   "metadata": {},
   "outputs": [
    {
     "name": "stdout",
     "output_type": "stream",
     "text": [
      "ted.simmons@company.org\n",
      "None\n"
     ]
    }
   ],
   "source": [
    "def new_employee(firstn, lastn, start_date):\n",
    "    #code to get gemployee first name and last name\n",
    "    \n",
    "    \n",
    "    #code to create email for employee\n",
    "    employee_email = create_account(firstn, lastn)\n",
    "    \n",
    "    #take email address and add it to database\n",
    "    #send welcome email to new employee\n",
    "    print(employee_email)\n",
    "new_employee('Ted', 'Simmons', '09-21-21')"
   ]
  },
  {
   "cell_type": "markdown",
   "metadata": {},
   "source": [
    "###Returning Value"
   ]
  },
  {
   "cell_type": "code",
   "execution_count": 99,
   "metadata": {},
   "outputs": [],
   "source": [
    "def create_email(first_name, last_name):\n",
    "    return f'{first_name.lower()}.{last_name.lower()}@company.org'"
   ]
  },
  {
   "cell_type": "markdown",
   "metadata": {},
   "source": [
    "##### Each function can only reutrn ONCE\n",
    "*does not mean that there can't multiple returns in a function. Once a return is hit, the funciton is finnished."
   ]
  },
  {
   "cell_type": "code",
   "execution_count": 105,
   "metadata": {},
   "outputs": [
    {
     "name": "stdout",
     "output_type": "stream",
     "text": [
      "0\n"
     ]
    }
   ],
   "source": [
    "def my_function(some_number):\n",
    "    for i in range(10):\n",
    "        if i == some_number:\n",
    "            return i\n",
    "        print(i)\n",
    "        return 'Hello'\n",
    "                \n",
    "my_var = my_function(44)\n",
    "# print(my_var)"
   ]
  },
  {
   "cell_type": "markdown",
   "metadata": {},
   "source": [
    "##### Default Parameters"
   ]
  },
  {
   "cell_type": "code",
   "execution_count": 110,
   "metadata": {},
   "outputs": [
    {
     "name": "stdout",
     "output_type": "stream",
     "text": [
      "The name is Bond...James Bond\n",
      "The name is Anderson...Thomas Anderson\n"
     ]
    },
    {
     "data": {
      "text/plain": [
       "'The name is Anderson...Thomas Anderson'"
      ]
     },
     "execution_count": 110,
     "metadata": {},
     "output_type": "execute_result"
    }
   ],
   "source": [
    "# default parameters need to be AFTER non-default parameters at all times\n",
    "\n",
    "def printAgentName(first_name, last_name = 'Bond'):\n",
    "    print(f'The name is {last_name}...{first_name} {last_name}')\n",
    "    return f'The name is {last_name}...{first_name} {last_name}'\n",
    "printAgentName('James')\n",
    "\n",
    "printAgentName('Thomas', 'Anderson')\n",
    "\n",
    "# DON'T DO THIS PLEASE \n",
    "# def printAgentAgain(last_name = 'Bond', first_name):\n",
    "#     return f'The name is...{first_name} {last_name}'\n",
    "\n",
    "# printAgentAgain(first_name ='James')\n"
   ]
  },
  {
   "cell_type": "markdown",
   "metadata": {},
   "source": [
    "##### Making an Argument Optional"
   ]
  },
  {
   "cell_type": "code",
   "execution_count": 73,
   "metadata": {},
   "outputs": [
    {
     "data": {
      "text/plain": [
       "'Hello Mr  Ed'"
      ]
     },
     "execution_count": 73,
     "metadata": {},
     "output_type": "execute_result"
    }
   ],
   "source": [
    "def printHorseName(first, middle = \"\", last = \"Ed\"):\n",
    "    return f\"Hello {first} {middle} {last}\"\n",
    "\n",
    "printHorseName(\"Mr\")"
   ]
  },
  {
   "cell_type": "markdown",
   "metadata": {},
   "source": [
    "##### Keyword Arguments"
   ]
  },
  {
   "cell_type": "code",
   "execution_count": 114,
   "metadata": {},
   "outputs": [
    {
     "name": "stdout",
     "output_type": "stream",
     "text": [
      "Ken JonesJr\n"
     ]
    }
   ],
   "source": [
    "# last_name='Max', first_name='Smith' in the function call\n",
    "def printSuperHero(name, power = \"flying\"):\n",
    "    return f'{name} and superpower is {power}'\n",
    "\n",
    "printSuperHero('IronMan')\n",
    "# see above\n",
    "\n",
    "\n",
    "\n",
    "def full_name(first, last, suffix = ' '):\n",
    "    if suffix:\n",
    "        print(f'{first.title()} {last.title()}{suffix.title()}')\n",
    "              \n",
    "full_name('ken', 'jones', 'jr')"
   ]
  },
  {
   "cell_type": "markdown",
   "metadata": {},
   "source": [
    "# Creating a start, stop, step function"
   ]
  },
  {
   "cell_type": "code",
   "execution_count": 116,
   "metadata": {},
   "outputs": [
    {
     "name": "stdout",
     "output_type": "stream",
     "text": [
      "10\n",
      "12\n",
      "14\n",
      "16\n",
      "18\n"
     ]
    }
   ],
   "source": [
    "def my_range(stop,start=0,step = 1):\n",
    "    for i in range(start,stop,step):\n",
    "        print(i)\n",
    "my_range(20,10,2)"
   ]
  },
  {
   "cell_type": "markdown",
   "metadata": {},
   "source": [
    "##### Returning Values"
   ]
  },
  {
   "cell_type": "code",
   "execution_count": 76,
   "metadata": {},
   "outputs": [
    {
     "data": {
      "text/plain": [
       "7"
      ]
     },
     "execution_count": 76,
     "metadata": {},
     "output_type": "execute_result"
    }
   ],
   "source": [
    "def addNums(num1,num2):\n",
    "    return num1 + num2\n",
    "\n",
    "addNums(5,2)"
   ]
  },
  {
   "cell_type": "markdown",
   "metadata": {},
   "source": [
    "##### *args / **kwargs (AKA KeyWord Args)"
   ]
  },
  {
   "cell_type": "code",
   "execution_count": 118,
   "metadata": {},
   "outputs": [
    {
     "ename": "IndentationError",
     "evalue": "unexpected indent (<ipython-input-118-53af132982e9>, line 16)",
     "output_type": "error",
     "traceback": [
      "\u001b[0;36m  File \u001b[0;32m\"<ipython-input-118-53af132982e9>\"\u001b[0;36m, line \u001b[0;32m16\u001b[0m\n\u001b[0;31m    for arg in args:\u001b[0m\n\u001b[0m    ^\u001b[0m\n\u001b[0;31mIndentationError\u001b[0m\u001b[0;31m:\u001b[0m unexpected indent\n"
     ]
    }
   ],
   "source": [
    "# stands for arguments, takes ANY number of arguments as parameters\n",
    "# must be last if muliple parameters are present\n",
    "def printArgs(num1, num2, *args, **kwargs):\n",
    "    print(\"Positional Argument:\", num2)\n",
    "    \n",
    "    print(num1)\n",
    "    \n",
    "    print('Args:', args)\n",
    "    for a in args:\n",
    "        print(a)\n",
    "    \n",
    "    print('Kwargs', kwargs)\n",
    "         \n",
    "printArgs(100, 150, 200, 250, 'Friend')\n",
    "    \n",
    "    for arg in args:\n",
    "        print(arg)\n",
    "        \n",
    "    for kwarg in kwargs:\n",
    "        print(kwarg)\n",
    "        \n",
    "printArgs(36,'DragonZord','vanilla',2,3,testing=\"joel\")\n"
   ]
  },
  {
   "cell_type": "markdown",
   "metadata": {},
   "source": [
    "##### Docstring"
   ]
  },
  {
   "cell_type": "code",
   "execution_count": 79,
   "metadata": {},
   "outputs": [
    {
     "name": "stdout",
     "output_type": "stream",
     "text": [
      "George\n",
      "Ramon\n",
      "Peter\n",
      "Help on function printNames in module __main__:\n",
      "\n",
      "printNames(list_1)\n",
      "    printNames(list_1)\n",
      "    Function requires a list to be passed as a parameter\n",
      "    and will print the contents of the list. Expecting \n",
      "    a list of names(strings) to be passed.\n",
      "\n"
     ]
    }
   ],
   "source": [
    "def printNames(list_1):\n",
    "    \"\"\"\n",
    "        printNames(list_1)\n",
    "        Function requires a list to be passed as a parameter\n",
    "        and will print the contents of the list. Expecting \n",
    "        a list of names(strings) to be passed.\n",
    "    \"\"\"\n",
    "    for name in list_1:\n",
    "        print(name)\n",
    "        \n",
    "printNames(['George','Ramon','Peter'])\n",
    "help(printNames)"
   ]
  },
  {
   "cell_type": "markdown",
   "metadata": {},
   "source": [
    "##### Using a User Function in a Loop"
   ]
  },
  {
   "cell_type": "code",
   "execution_count": 82,
   "metadata": {},
   "outputs": [
    {
     "name": "stdout",
     "output_type": "stream",
     "text": [
      "Are you ready to quit??no\n",
      "What do you want to do?bowl\n",
      "bowl\n",
      "Ready Yet?YES\n",
      "What do you want to do?dance\n",
      "dance\n",
      "Ready Yet?QUIT\n"
     ]
    }
   ],
   "source": [
    "def printInput(answer):\n",
    "    print(answer)\n",
    "\n",
    "response = input('Are you ready to quit??')\n",
    "\n",
    "while True:\n",
    "    ask = input('What do you want to do?')\n",
    "    \n",
    "    printInput(ask)\n",
    "    \n",
    "    response = input('Ready Yet?')\n",
    "    if response.lower() == 'quit':\n",
    "        break\n"
   ]
  },
  {
   "cell_type": "markdown",
   "metadata": {},
   "source": [
    "## Function Exercise <br>\n",
    "<p>Write a function that loops through a list of first_names and a list of last_names, combines the two and return a list of full_names</p>"
   ]
  },
  {
   "cell_type": "code",
   "execution_count": null,
   "metadata": {},
   "outputs": [],
   "source": [
    "first_name = ['John', 'Evan', 'Jordan', 'Max']\n",
    "last_name = ['Smith', 'Smith', 'Williams', 'Bell']\n",
    "\n",
    "# Output: ['John Smith', 'Evan Smith', 'Jordan Williams', 'Max Bell']\n",
    "\n"
   ]
  },
  {
   "cell_type": "markdown",
   "metadata": {},
   "source": [
    "## Scope <br>\n",
    "<p>Scope refers to the ability to access variables, different types of scope include:<br>a) Global<br>b) Function (local)<br>c) Class (local)</p>"
   ]
  },
  {
   "cell_type": "code",
   "execution_count": 86,
   "metadata": {
    "scrolled": true
   },
   "outputs": [
    {
     "name": "stdout",
     "output_type": "stream",
     "text": [
      "3\n",
      "6\n"
     ]
    }
   ],
   "source": [
    "# placement of variable declaration matters\n",
    "number = 3 # Global Variable\n",
    "\n",
    "def myFunc():\n",
    "    num_3 = 6 # Local Function Variable\n",
    "    return num_3\n",
    "\n",
    "print(number)\n",
    "return_num = myFunc()\n",
    "\n",
    "print(return_num)\n"
   ]
  },
  {
   "cell_type": "markdown",
   "metadata": {},
   "source": [
    "# Exercises"
   ]
  },
  {
   "cell_type": "markdown",
   "metadata": {},
   "source": [
    "## Exercise 1 <br>\n",
    "<p>Given a list as a parameter,write a function that returns a list of numbers that are less than ten</b></i></p><br>\n",
    "<p> For example: Say your input parameter to the function is [1,11,14,5,8,9]...Your output should [1,5,8,9]</p>"
   ]
  },
  {
   "cell_type": "code",
   "execution_count": 94,
   "metadata": {},
   "outputs": [
    {
     "name": "stdout",
     "output_type": "stream",
     "text": [
      "[1, 5, 8, 9]\n"
     ]
    }
   ],
   "source": [
    "# Use the following list - [1,11,14,5,8,9]\n",
    "numbers = [1,11,14,5,8,9]\n",
    "output = []\n",
    "\n",
    "for number in numbers: \n",
    "    if number < 10:\n",
    "        output.append(number)\n",
    "    \n",
    "print(output)\n",
    "\n"
   ]
  },
  {
   "cell_type": "markdown",
   "metadata": {},
   "source": [
    "## Exercise 2 <br>\n",
    "<p>Write a function that takes in two lists and returns the two lists merged together and sorted<br>\n",
    "<b><i>Hint: You can use the .sort() method</i></b></p>"
   ]
  },
  {
   "cell_type": "code",
   "execution_count": 139,
   "metadata": {},
   "outputs": [
    {
     "name": "stdout",
     "output_type": "stream",
     "text": [
      "[1, 2, 3, 3, 4, 4, 5, 5, 6, 6, 7, 8, 10]\n"
     ]
    }
   ],
   "source": [
    "l_1 = [1,2,3,4,5,6]\n",
    "l_2 = [3,4,5,6,7,8,10]\n",
    "l_3 = []\n",
    "\n",
    "def full_list():\n",
    "    x=0\n",
    "    for x in range(len(l_2)):\n",
    "        l_3=l_1+l_2\n",
    "        x= x + 1\n",
    "        l_3.sort()\n",
    "    print(l_3)\n",
    "    \n",
    "full_list()"
   ]
  },
  {
   "cell_type": "code",
   "execution_count": 137,
   "metadata": {},
   "outputs": [
    {
     "name": "stdout",
     "output_type": "stream",
     "text": [
      "['John Smith', 'Evan Smith', 'Jordan Williams', 'Max Bell']\n"
     ]
    }
   ],
   "source": [
    "first_name = ['John', 'Evan', 'Jordan', 'Max']\n",
    "last_name = ['Smith', 'Smith', 'Williams', 'Bell']\n",
    "full_names = []\n",
    "\n",
    "def print_names():\n",
    "    i = 0\n",
    "    while i < len(first_name):\n",
    "        full_name = (first_name[i] + \" \" + last_name[i])\n",
    "        i = i + 1\n",
    "        full_names.append(full_name)\n",
    "\n",
    "    print(full_names)\n",
    "print_names()"
   ]
  },
  {
   "cell_type": "code",
   "execution_count": null,
   "metadata": {},
   "outputs": [],
   "source": [
    "\n"
   ]
  }
 ],
 "metadata": {
  "kernelspec": {
   "display_name": "Python 3",
   "language": "python",
   "name": "python3"
  },
  "language_info": {
   "codemirror_mode": {
    "name": "ipython",
    "version": 3
   },
   "file_extension": ".py",
   "mimetype": "text/x-python",
   "name": "python",
   "nbconvert_exporter": "python",
   "pygments_lexer": "ipython3",
   "version": "3.8.8"
  }
 },
 "nbformat": 4,
 "nbformat_minor": 2
}
